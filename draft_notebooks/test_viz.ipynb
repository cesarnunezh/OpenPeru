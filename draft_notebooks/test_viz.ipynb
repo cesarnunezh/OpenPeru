{
 "cells": [
  {
   "cell_type": "markdown",
   "id": "40457275",
   "metadata": {},
   "source": [
    "# 1. Load in data model\n",
    "## Description\n",
    "This grabs an example data format of a [vote event](https://www.popoloproject.com/appendices/examples.html#vote-events) to produce more generalized code to create a visualization of voting behavior."
   ]
  },
  {
   "cell_type": "code",
   "execution_count": 8,
   "id": "fd34e59a",
   "metadata": {},
   "outputs": [],
   "source": [
    "import polars as pl\n",
    "import altair as alt\n",
    "import json\n",
    "import os\n"
   ]
  },
  {
   "cell_type": "markdown",
   "id": "eaa76495",
   "metadata": {},
   "source": [
    "### 1.1. Load data"
   ]
  },
  {
   "cell_type": "code",
   "execution_count": null,
   "id": "51fd7b97",
   "metadata": {},
   "outputs": [
    {
     "name": "stdout",
     "output_type": "stream",
     "text": [
      "c:\\Users\\micha\\Documents\\EsteCon\\data\\example_vote_event.json\n"
     ]
    }
   ],
   "source": [
    "# First import data as a VoteEvent type\n",
    "parent = os.path.abspath(\"..\")\n",
    "path = os.path.join(parent, \"data\", \"example_vote_event.json\")\n",
    "with open(path, \"r\") as f:\n",
    "    votes = json.load(f)"
   ]
  },
  {
   "cell_type": "code",
   "execution_count": null,
   "id": "53c2e640",
   "metadata": {},
   "outputs": [
    {
     "name": "stdout",
     "output_type": "stream",
     "text": [
      "{'identifier': '17', 'motion': {'text': 'The parliment took an example vote'}, 'start_date': '2005-02-22', 'counts': [{'option': 'yes', 'value': 40}, {'option': 'no', 'value': 85}, {'option': 'abstain', 'value': 5}], 'votes': [{'voter': {'name': 'Voter 1'}, 'option': 'yes'}, {'voter': {'name': 'Voter 2'}, 'option': 'yes'}, {'voter': {'name': 'Voter 3'}, 'option': 'yes'}, {'voter': {'name': 'Voter 4'}, 'option': 'yes'}, {'voter': {'name': 'Voter 5'}, 'option': 'yes'}, {'voter': {'name': 'Voter 6'}, 'option': 'yes'}, {'voter': {'name': 'Voter 7'}, 'option': 'yes'}, {'voter': {'name': 'Voter 8'}, 'option': 'yes'}, {'voter': {'name': 'Voter 9'}, 'option': 'yes'}, {'voter': {'name': 'Voter 10'}, 'option': 'yes'}, {'voter': {'name': 'Voter 11'}, 'option': 'yes'}, {'voter': {'name': 'Voter 12'}, 'option': 'yes'}, {'voter': {'name': 'Voter 13'}, 'option': 'yes'}, {'voter': {'name': 'Voter 14'}, 'option': 'yes'}, {'voter': {'name': 'Voter 15'}, 'option': 'yes'}, {'voter': {'name': 'Voter 16'}, 'option': 'yes'}, {'voter': {'name': 'Voter 17'}, 'option': 'yes'}, {'voter': {'name': 'Voter 18'}, 'option': 'yes'}, {'voter': {'name': 'Voter 19'}, 'option': 'yes'}, {'voter': {'name': 'Voter 20'}, 'option': 'yes'}, {'voter': {'name': 'Voter 21'}, 'option': 'yes'}, {'voter': {'name': 'Voter 22'}, 'option': 'yes'}, {'voter': {'name': 'Voter 23'}, 'option': 'yes'}, {'voter': {'name': 'Voter 24'}, 'option': 'yes'}, {'voter': {'name': 'Voter 25'}, 'option': 'yes'}, {'voter': {'name': 'Voter 26'}, 'option': 'yes'}, {'voter': {'name': 'Voter 27'}, 'option': 'yes'}, {'voter': {'name': 'Voter 28'}, 'option': 'yes'}, {'voter': {'name': 'Voter 29'}, 'option': 'yes'}, {'voter': {'name': 'Voter 30'}, 'option': 'yes'}, {'voter': {'name': 'Voter 31'}, 'option': 'yes'}, {'voter': {'name': 'Voter 32'}, 'option': 'yes'}, {'voter': {'name': 'Voter 33'}, 'option': 'yes'}, {'voter': {'name': 'Voter 34'}, 'option': 'yes'}, {'voter': {'name': 'Voter 35'}, 'option': 'yes'}, {'voter': {'name': 'Voter 36'}, 'option': 'yes'}, {'voter': {'name': 'Voter 37'}, 'option': 'yes'}, {'voter': {'name': 'Voter 38'}, 'option': 'yes'}, {'voter': {'name': 'Voter 39'}, 'option': 'yes'}, {'voter': {'name': 'Voter 40'}, 'option': 'yes'}, {'voter': {'name': 'Voter 41'}, 'option': 'no'}, {'voter': {'name': 'Voter 42'}, 'option': 'no'}, {'voter': {'name': 'Voter 43'}, 'option': 'no'}, {'voter': {'name': 'Voter 44'}, 'option': 'no'}, {'voter': {'name': 'Voter 45'}, 'option': 'no'}, {'voter': {'name': 'Voter 46'}, 'option': 'no'}, {'voter': {'name': 'Voter 47'}, 'option': 'no'}, {'voter': {'name': 'Voter 48'}, 'option': 'no'}, {'voter': {'name': 'Voter 49'}, 'option': 'no'}, {'voter': {'name': 'Voter 50'}, 'option': 'no'}, {'voter': {'name': 'Voter 51'}, 'option': 'no'}, {'voter': {'name': 'Voter 52'}, 'option': 'no'}, {'voter': {'name': 'Voter 53'}, 'option': 'no'}, {'voter': {'name': 'Voter 54'}, 'option': 'no'}, {'voter': {'name': 'Voter 55'}, 'option': 'no'}, {'voter': {'name': 'Voter 56'}, 'option': 'no'}, {'voter': {'name': 'Voter 57'}, 'option': 'no'}, {'voter': {'name': 'Voter 58'}, 'option': 'no'}, {'voter': {'name': 'Voter 59'}, 'option': 'no'}, {'voter': {'name': 'Voter 60'}, 'option': 'no'}, {'voter': {'name': 'Voter 61'}, 'option': 'no'}, {'voter': {'name': 'Voter 62'}, 'option': 'no'}, {'voter': {'name': 'Voter 63'}, 'option': 'no'}, {'voter': {'name': 'Voter 64'}, 'option': 'no'}, {'voter': {'name': 'Voter 65'}, 'option': 'no'}, {'voter': {'name': 'Voter 66'}, 'option': 'no'}, {'voter': {'name': 'Voter 67'}, 'option': 'no'}, {'voter': {'name': 'Voter 68'}, 'option': 'no'}, {'voter': {'name': 'Voter 69'}, 'option': 'no'}, {'voter': {'name': 'Voter 70'}, 'option': 'no'}, {'voter': {'name': 'Voter 71'}, 'option': 'no'}, {'voter': {'name': 'Voter 72'}, 'option': 'no'}, {'voter': {'name': 'Voter 73'}, 'option': 'no'}, {'voter': {'name': 'Voter 74'}, 'option': 'no'}, {'voter': {'name': 'Voter 75'}, 'option': 'no'}, {'voter': {'name': 'Voter 76'}, 'option': 'no'}, {'voter': {'name': 'Voter 77'}, 'option': 'no'}, {'voter': {'name': 'Voter 78'}, 'option': 'no'}, {'voter': {'name': 'Voter 79'}, 'option': 'no'}, {'voter': {'name': 'Voter 80'}, 'option': 'no'}, {'voter': {'name': 'Voter 81'}, 'option': 'no'}, {'voter': {'name': 'Voter 82'}, 'option': 'no'}, {'voter': {'name': 'Voter 83'}, 'option': 'no'}, {'voter': {'name': 'Voter 84'}, 'option': 'no'}, {'voter': {'name': 'Voter 85'}, 'option': 'no'}, {'voter': {'name': 'Voter 86'}, 'option': 'no'}, {'voter': {'name': 'Voter 87'}, 'option': 'no'}, {'voter': {'name': 'Voter 88'}, 'option': 'no'}, {'voter': {'name': 'Voter 89'}, 'option': 'no'}, {'voter': {'name': 'Voter 90'}, 'option': 'no'}, {'voter': {'name': 'Voter 91'}, 'option': 'no'}, {'voter': {'name': 'Voter 92'}, 'option': 'no'}, {'voter': {'name': 'Voter 93'}, 'option': 'no'}, {'voter': {'name': 'Voter 94'}, 'option': 'no'}, {'voter': {'name': 'Voter 95'}, 'option': 'no'}, {'voter': {'name': 'Voter 96'}, 'option': 'no'}, {'voter': {'name': 'Voter 97'}, 'option': 'no'}, {'voter': {'name': 'Voter 98'}, 'option': 'no'}, {'voter': {'name': 'Voter 99'}, 'option': 'no'}, {'voter': {'name': 'Voter 100'}, 'option': 'no'}, {'voter': {'name': 'Voter 101'}, 'option': 'no'}, {'voter': {'name': 'Voter 102'}, 'option': 'no'}, {'voter': {'name': 'Voter 103'}, 'option': 'no'}, {'voter': {'name': 'Voter 104'}, 'option': 'no'}, {'voter': {'name': 'Voter 105'}, 'option': 'no'}, {'voter': {'name': 'Voter 106'}, 'option': 'no'}, {'voter': {'name': 'Voter 107'}, 'option': 'no'}, {'voter': {'name': 'Voter 108'}, 'option': 'no'}, {'voter': {'name': 'Voter 109'}, 'option': 'no'}, {'voter': {'name': 'Voter 110'}, 'option': 'no'}, {'voter': {'name': 'Voter 111'}, 'option': 'no'}, {'voter': {'name': 'Voter 112'}, 'option': 'no'}, {'voter': {'name': 'Voter 113'}, 'option': 'no'}, {'voter': {'name': 'Voter 114'}, 'option': 'no'}, {'voter': {'name': 'Voter 115'}, 'option': 'no'}, {'voter': {'name': 'Voter 116'}, 'option': 'no'}, {'voter': {'name': 'Voter 117'}, 'option': 'no'}, {'voter': {'name': 'Voter 118'}, 'option': 'no'}, {'voter': {'name': 'Voter 119'}, 'option': 'no'}, {'voter': {'name': 'Voter 120'}, 'option': 'no'}, {'voter': {'name': 'Voter 121'}, 'option': 'no'}, {'voter': {'name': 'Voter 122'}, 'option': 'no'}, {'voter': {'name': 'Voter 123'}, 'option': 'no'}, {'voter': {'name': 'Voter 124'}, 'option': 'no'}, {'voter': {'name': 'Voter 125'}, 'option': 'no'}, {'voter': {'name': 'Voter 126'}, 'option': 'abstain'}, {'voter': {'name': 'Voter 127'}, 'option': 'abstain'}, {'voter': {'name': 'Voter 128'}, 'option': 'abstain'}, {'voter': {'name': 'Voter 129'}, 'option': 'abstain'}, {'voter': {'name': 'Voter 130'}, 'option': 'abstain'}], 'sources': [{'url': 'https://fakeurl.url/session/bill'}]}\n"
     ]
    }
   ],
   "source": [
    "print(votes)"
   ]
  },
  {
   "cell_type": "code",
   "execution_count": null,
   "id": "a8773554",
   "metadata": {},
   "outputs": [],
   "source": [
    "# Then extract it into a vote format\n",
    "vote_date = votes['start_date']\n",
    "votes_df = pl.DataFrame(votes[\"votes\"]).unnest(\"voter\")"
   ]
  },
  {
   "cell_type": "markdown",
   "id": "dd887106",
   "metadata": {},
   "source": [
    "### 1.2 - Reformat for plot\n",
    "I take the data and then create a grid and assign the vote information to a plot."
   ]
  },
  {
   "cell_type": "code",
   "execution_count": 53,
   "id": "58258144",
   "metadata": {},
   "outputs": [],
   "source": [
    "def reformat_votes(df: pl.DataFrame) -> pl.DataFrame:  \n",
    "    \"\"\"\n",
    "    Take format and put it into a format to manually plot values for Altair.\n",
    "\n",
    "    Input:\n",
    "        df - pl.DataFrame (130 x 3): A single vote\n",
    "    \n",
    "    Returns (pl.DataFrame) polars dataframe to feed to Altair\n",
    "    \"\"\"\n",
    "    # Create lists to fill for reformatted values\n",
    "    loc_y = []\n",
    "    loc_x = []\n",
    "    option = []\n",
    "    name = []\n",
    "\n",
    "    # Fill lists with location data from each\n",
    "    for y in range(1, 11):\n",
    "        for x in range(1, 14):\n",
    "            loc_y.append(y)\n",
    "            loc_x.append(x)\n",
    "\n",
    "            # Currently do not sort data\n",
    "            obs = (y-1) + (x - 1) * 10\n",
    "            option.append(df.row(obs)[df.columns.index(\"option\")])\n",
    "            name.append(df.row(obs)[df.columns.index(\"name\")])           \n",
    "\n",
    "    # Load as data frames\n",
    "    parliment_df = pl.DataFrame({\"x\": loc_x, \"y\": loc_y, \"option\": option, \"name\": name})\n",
    "    return parliment_df"
   ]
  },
  {
   "cell_type": "code",
   "execution_count": 57,
   "id": "226969d8",
   "metadata": {},
   "outputs": [],
   "source": [
    "plot_votes_df = reformat_votes(votes_df)"
   ]
  },
  {
   "cell_type": "markdown",
   "id": "298874a2",
   "metadata": {},
   "source": [
    "### 1.3 Plot in Altair"
   ]
  },
  {
   "cell_type": "code",
   "execution_count": null,
   "id": "c932a030",
   "metadata": {},
   "outputs": [],
   "source": [
    "def plot_votes(plot_votes_df):\n",
    "    \"\"\"\n",
    "    Creates a series of Chart elements.\n",
    "\n",
    "    Input: \n",
    "        - plot_votes_df (pl.DataFrame) - Data frame from vote event object\n",
    "\n",
    "    Returns (none): plots a basic altair plot\n",
    "    \"\"\"\n",
    "    # Creates eligibility base layer\n",
    "    votes_plot = (\n",
    "        alt.Chart(\n",
    "            plot_votes_df,\n",
    "            title=alt.Title(\n",
    "                f\"Votes for Bill {votes['identifier']}\",\n",
    "                subtitle=f\"Topic: {votes['motion']['text']}\",\n",
    "            ),\n",
    "        )\n",
    "        .mark_point(size=100, filled=True)\n",
    "        .encode(\n",
    "            alt.X(\"x\")\n",
    "            .title(None)\n",
    "            .axis(domain=False, grid=False, labels=False, ticks=False),\n",
    "            alt.Y(\"y\")\n",
    "            .title(None)\n",
    "            .axis(\n",
    "                domain=False,\n",
    "                ticks=False,\n",
    "                grid=False,\n",
    "                labels=False,\n",
    "            ),\n",
    "            color='option'\n",
    "        )\n",
    "    )\n",
    "    return votes_plot"
   ]
  },
  {
   "cell_type": "code",
   "execution_count": 72,
   "id": "db57aa55",
   "metadata": {},
   "outputs": [
    {
     "data": {
      "text/html": [
       "\n",
       "<style>\n",
       "  #altair-viz-2e929a2f569c4a9dab29c00af1b94427.vega-embed {\n",
       "    width: 100%;\n",
       "    display: flex;\n",
       "  }\n",
       "\n",
       "  #altair-viz-2e929a2f569c4a9dab29c00af1b94427.vega-embed details,\n",
       "  #altair-viz-2e929a2f569c4a9dab29c00af1b94427.vega-embed details summary {\n",
       "    position: relative;\n",
       "  }\n",
       "</style>\n",
       "<div id=\"altair-viz-2e929a2f569c4a9dab29c00af1b94427\"></div>\n",
       "<script type=\"text/javascript\">\n",
       "  var VEGA_DEBUG = (typeof VEGA_DEBUG == \"undefined\") ? {} : VEGA_DEBUG;\n",
       "  (function(spec, embedOpt){\n",
       "    let outputDiv = document.currentScript.previousElementSibling;\n",
       "    if (outputDiv.id !== \"altair-viz-2e929a2f569c4a9dab29c00af1b94427\") {\n",
       "      outputDiv = document.getElementById(\"altair-viz-2e929a2f569c4a9dab29c00af1b94427\");\n",
       "    }\n",
       "\n",
       "    const paths = {\n",
       "      \"vega\": \"https://cdn.jsdelivr.net/npm/vega@5?noext\",\n",
       "      \"vega-lib\": \"https://cdn.jsdelivr.net/npm/vega-lib?noext\",\n",
       "      \"vega-lite\": \"https://cdn.jsdelivr.net/npm/vega-lite@5.20.1?noext\",\n",
       "      \"vega-embed\": \"https://cdn.jsdelivr.net/npm/vega-embed@6?noext\",\n",
       "    };\n",
       "\n",
       "    function maybeLoadScript(lib, version) {\n",
       "      var key = `${lib.replace(\"-\", \"\")}_version`;\n",
       "      return (VEGA_DEBUG[key] == version) ?\n",
       "        Promise.resolve(paths[lib]) :\n",
       "        new Promise(function(resolve, reject) {\n",
       "          var s = document.createElement('script');\n",
       "          document.getElementsByTagName(\"head\")[0].appendChild(s);\n",
       "          s.async = true;\n",
       "          s.onload = () => {\n",
       "            VEGA_DEBUG[key] = version;\n",
       "            return resolve(paths[lib]);\n",
       "          };\n",
       "          s.onerror = () => reject(`Error loading script: ${paths[lib]}`);\n",
       "          s.src = paths[lib];\n",
       "        });\n",
       "    }\n",
       "\n",
       "    function showError(err) {\n",
       "      outputDiv.innerHTML = `<div class=\"error\" style=\"color:red;\">${err}</div>`;\n",
       "      throw err;\n",
       "    }\n",
       "\n",
       "    function displayChart(vegaEmbed) {\n",
       "      vegaEmbed(outputDiv, spec, embedOpt)\n",
       "        .catch(err => showError(`Javascript Error: ${err.message}<br>This usually means there's a typo in your chart specification. See the javascript console for the full traceback.`));\n",
       "    }\n",
       "\n",
       "    if(typeof define === \"function\" && define.amd) {\n",
       "      requirejs.config({paths});\n",
       "      let deps = [\"vega-embed\"];\n",
       "      require(deps, displayChart, err => showError(`Error loading script: ${err.message}`));\n",
       "    } else {\n",
       "      maybeLoadScript(\"vega\", \"5\")\n",
       "        .then(() => maybeLoadScript(\"vega-lite\", \"5.20.1\"))\n",
       "        .then(() => maybeLoadScript(\"vega-embed\", \"6\"))\n",
       "        .catch(showError)\n",
       "        .then(() => displayChart(vegaEmbed));\n",
       "    }\n",
       "  })({\"config\": {\"view\": {\"continuousWidth\": 300, \"continuousHeight\": 300}}, \"data\": {\"name\": \"data-1aed7dc4724956db708011a8f6959186\"}, \"mark\": {\"type\": \"point\", \"filled\": true, \"size\": 100}, \"encoding\": {\"color\": {\"field\": \"option\", \"type\": \"nominal\"}, \"x\": {\"axis\": {\"domain\": false, \"grid\": false, \"labels\": false, \"ticks\": false}, \"field\": \"x\", \"title\": null, \"type\": \"quantitative\"}, \"y\": {\"axis\": {\"domain\": false, \"ticks\": false, \"grid\": false, \"labels\": false}, \"field\": \"y\", \"title\": null, \"type\": \"quantitative\"}}, \"title\": {\"text\": \"Votes for Bill 17\", \"subtitle\": \"Topic: The parliment took an example vote\"}, \"$schema\": \"https://vega.github.io/schema/vega-lite/v5.20.1.json\", \"datasets\": {\"data-1aed7dc4724956db708011a8f6959186\": [{\"x\": 1, \"y\": 1, \"option\": \"yes\", \"name\": \"Voter 1\"}, {\"x\": 2, \"y\": 1, \"option\": \"yes\", \"name\": \"Voter 11\"}, {\"x\": 3, \"y\": 1, \"option\": \"yes\", \"name\": \"Voter 21\"}, {\"x\": 4, \"y\": 1, \"option\": \"yes\", \"name\": \"Voter 31\"}, {\"x\": 5, \"y\": 1, \"option\": \"no\", \"name\": \"Voter 41\"}, {\"x\": 6, \"y\": 1, \"option\": \"no\", \"name\": \"Voter 51\"}, {\"x\": 7, \"y\": 1, \"option\": \"no\", \"name\": \"Voter 61\"}, {\"x\": 8, \"y\": 1, \"option\": \"no\", \"name\": \"Voter 71\"}, {\"x\": 9, \"y\": 1, \"option\": \"no\", \"name\": \"Voter 81\"}, {\"x\": 10, \"y\": 1, \"option\": \"no\", \"name\": \"Voter 91\"}, {\"x\": 11, \"y\": 1, \"option\": \"no\", \"name\": \"Voter 101\"}, {\"x\": 12, \"y\": 1, \"option\": \"no\", \"name\": \"Voter 111\"}, {\"x\": 13, \"y\": 1, \"option\": \"no\", \"name\": \"Voter 121\"}, {\"x\": 1, \"y\": 2, \"option\": \"yes\", \"name\": \"Voter 2\"}, {\"x\": 2, \"y\": 2, \"option\": \"yes\", \"name\": \"Voter 12\"}, {\"x\": 3, \"y\": 2, \"option\": \"yes\", \"name\": \"Voter 22\"}, {\"x\": 4, \"y\": 2, \"option\": \"yes\", \"name\": \"Voter 32\"}, {\"x\": 5, \"y\": 2, \"option\": \"no\", \"name\": \"Voter 42\"}, {\"x\": 6, \"y\": 2, \"option\": \"no\", \"name\": \"Voter 52\"}, {\"x\": 7, \"y\": 2, \"option\": \"no\", \"name\": \"Voter 62\"}, {\"x\": 8, \"y\": 2, \"option\": \"no\", \"name\": \"Voter 72\"}, {\"x\": 9, \"y\": 2, \"option\": \"no\", \"name\": \"Voter 82\"}, {\"x\": 10, \"y\": 2, \"option\": \"no\", \"name\": \"Voter 92\"}, {\"x\": 11, \"y\": 2, \"option\": \"no\", \"name\": \"Voter 102\"}, {\"x\": 12, \"y\": 2, \"option\": \"no\", \"name\": \"Voter 112\"}, {\"x\": 13, \"y\": 2, \"option\": \"no\", \"name\": \"Voter 122\"}, {\"x\": 1, \"y\": 3, \"option\": \"yes\", \"name\": \"Voter 3\"}, {\"x\": 2, \"y\": 3, \"option\": \"yes\", \"name\": \"Voter 13\"}, {\"x\": 3, \"y\": 3, \"option\": \"yes\", \"name\": \"Voter 23\"}, {\"x\": 4, \"y\": 3, \"option\": \"yes\", \"name\": \"Voter 33\"}, {\"x\": 5, \"y\": 3, \"option\": \"no\", \"name\": \"Voter 43\"}, {\"x\": 6, \"y\": 3, \"option\": \"no\", \"name\": \"Voter 53\"}, {\"x\": 7, \"y\": 3, \"option\": \"no\", \"name\": \"Voter 63\"}, {\"x\": 8, \"y\": 3, \"option\": \"no\", \"name\": \"Voter 73\"}, {\"x\": 9, \"y\": 3, \"option\": \"no\", \"name\": \"Voter 83\"}, {\"x\": 10, \"y\": 3, \"option\": \"no\", \"name\": \"Voter 93\"}, {\"x\": 11, \"y\": 3, \"option\": \"no\", \"name\": \"Voter 103\"}, {\"x\": 12, \"y\": 3, \"option\": \"no\", \"name\": \"Voter 113\"}, {\"x\": 13, \"y\": 3, \"option\": \"no\", \"name\": \"Voter 123\"}, {\"x\": 1, \"y\": 4, \"option\": \"yes\", \"name\": \"Voter 4\"}, {\"x\": 2, \"y\": 4, \"option\": \"yes\", \"name\": \"Voter 14\"}, {\"x\": 3, \"y\": 4, \"option\": \"yes\", \"name\": \"Voter 24\"}, {\"x\": 4, \"y\": 4, \"option\": \"yes\", \"name\": \"Voter 34\"}, {\"x\": 5, \"y\": 4, \"option\": \"no\", \"name\": \"Voter 44\"}, {\"x\": 6, \"y\": 4, \"option\": \"no\", \"name\": \"Voter 54\"}, {\"x\": 7, \"y\": 4, \"option\": \"no\", \"name\": \"Voter 64\"}, {\"x\": 8, \"y\": 4, \"option\": \"no\", \"name\": \"Voter 74\"}, {\"x\": 9, \"y\": 4, \"option\": \"no\", \"name\": \"Voter 84\"}, {\"x\": 10, \"y\": 4, \"option\": \"no\", \"name\": \"Voter 94\"}, {\"x\": 11, \"y\": 4, \"option\": \"no\", \"name\": \"Voter 104\"}, {\"x\": 12, \"y\": 4, \"option\": \"no\", \"name\": \"Voter 114\"}, {\"x\": 13, \"y\": 4, \"option\": \"no\", \"name\": \"Voter 124\"}, {\"x\": 1, \"y\": 5, \"option\": \"yes\", \"name\": \"Voter 5\"}, {\"x\": 2, \"y\": 5, \"option\": \"yes\", \"name\": \"Voter 15\"}, {\"x\": 3, \"y\": 5, \"option\": \"yes\", \"name\": \"Voter 25\"}, {\"x\": 4, \"y\": 5, \"option\": \"yes\", \"name\": \"Voter 35\"}, {\"x\": 5, \"y\": 5, \"option\": \"no\", \"name\": \"Voter 45\"}, {\"x\": 6, \"y\": 5, \"option\": \"no\", \"name\": \"Voter 55\"}, {\"x\": 7, \"y\": 5, \"option\": \"no\", \"name\": \"Voter 65\"}, {\"x\": 8, \"y\": 5, \"option\": \"no\", \"name\": \"Voter 75\"}, {\"x\": 9, \"y\": 5, \"option\": \"no\", \"name\": \"Voter 85\"}, {\"x\": 10, \"y\": 5, \"option\": \"no\", \"name\": \"Voter 95\"}, {\"x\": 11, \"y\": 5, \"option\": \"no\", \"name\": \"Voter 105\"}, {\"x\": 12, \"y\": 5, \"option\": \"no\", \"name\": \"Voter 115\"}, {\"x\": 13, \"y\": 5, \"option\": \"no\", \"name\": \"Voter 125\"}, {\"x\": 1, \"y\": 6, \"option\": \"yes\", \"name\": \"Voter 6\"}, {\"x\": 2, \"y\": 6, \"option\": \"yes\", \"name\": \"Voter 16\"}, {\"x\": 3, \"y\": 6, \"option\": \"yes\", \"name\": \"Voter 26\"}, {\"x\": 4, \"y\": 6, \"option\": \"yes\", \"name\": \"Voter 36\"}, {\"x\": 5, \"y\": 6, \"option\": \"no\", \"name\": \"Voter 46\"}, {\"x\": 6, \"y\": 6, \"option\": \"no\", \"name\": \"Voter 56\"}, {\"x\": 7, \"y\": 6, \"option\": \"no\", \"name\": \"Voter 66\"}, {\"x\": 8, \"y\": 6, \"option\": \"no\", \"name\": \"Voter 76\"}, {\"x\": 9, \"y\": 6, \"option\": \"no\", \"name\": \"Voter 86\"}, {\"x\": 10, \"y\": 6, \"option\": \"no\", \"name\": \"Voter 96\"}, {\"x\": 11, \"y\": 6, \"option\": \"no\", \"name\": \"Voter 106\"}, {\"x\": 12, \"y\": 6, \"option\": \"no\", \"name\": \"Voter 116\"}, {\"x\": 13, \"y\": 6, \"option\": \"abstain\", \"name\": \"Voter 126\"}, {\"x\": 1, \"y\": 7, \"option\": \"yes\", \"name\": \"Voter 7\"}, {\"x\": 2, \"y\": 7, \"option\": \"yes\", \"name\": \"Voter 17\"}, {\"x\": 3, \"y\": 7, \"option\": \"yes\", \"name\": \"Voter 27\"}, {\"x\": 4, \"y\": 7, \"option\": \"yes\", \"name\": \"Voter 37\"}, {\"x\": 5, \"y\": 7, \"option\": \"no\", \"name\": \"Voter 47\"}, {\"x\": 6, \"y\": 7, \"option\": \"no\", \"name\": \"Voter 57\"}, {\"x\": 7, \"y\": 7, \"option\": \"no\", \"name\": \"Voter 67\"}, {\"x\": 8, \"y\": 7, \"option\": \"no\", \"name\": \"Voter 77\"}, {\"x\": 9, \"y\": 7, \"option\": \"no\", \"name\": \"Voter 87\"}, {\"x\": 10, \"y\": 7, \"option\": \"no\", \"name\": \"Voter 97\"}, {\"x\": 11, \"y\": 7, \"option\": \"no\", \"name\": \"Voter 107\"}, {\"x\": 12, \"y\": 7, \"option\": \"no\", \"name\": \"Voter 117\"}, {\"x\": 13, \"y\": 7, \"option\": \"abstain\", \"name\": \"Voter 127\"}, {\"x\": 1, \"y\": 8, \"option\": \"yes\", \"name\": \"Voter 8\"}, {\"x\": 2, \"y\": 8, \"option\": \"yes\", \"name\": \"Voter 18\"}, {\"x\": 3, \"y\": 8, \"option\": \"yes\", \"name\": \"Voter 28\"}, {\"x\": 4, \"y\": 8, \"option\": \"yes\", \"name\": \"Voter 38\"}, {\"x\": 5, \"y\": 8, \"option\": \"no\", \"name\": \"Voter 48\"}, {\"x\": 6, \"y\": 8, \"option\": \"no\", \"name\": \"Voter 58\"}, {\"x\": 7, \"y\": 8, \"option\": \"no\", \"name\": \"Voter 68\"}, {\"x\": 8, \"y\": 8, \"option\": \"no\", \"name\": \"Voter 78\"}, {\"x\": 9, \"y\": 8, \"option\": \"no\", \"name\": \"Voter 88\"}, {\"x\": 10, \"y\": 8, \"option\": \"no\", \"name\": \"Voter 98\"}, {\"x\": 11, \"y\": 8, \"option\": \"no\", \"name\": \"Voter 108\"}, {\"x\": 12, \"y\": 8, \"option\": \"no\", \"name\": \"Voter 118\"}, {\"x\": 13, \"y\": 8, \"option\": \"abstain\", \"name\": \"Voter 128\"}, {\"x\": 1, \"y\": 9, \"option\": \"yes\", \"name\": \"Voter 9\"}, {\"x\": 2, \"y\": 9, \"option\": \"yes\", \"name\": \"Voter 19\"}, {\"x\": 3, \"y\": 9, \"option\": \"yes\", \"name\": \"Voter 29\"}, {\"x\": 4, \"y\": 9, \"option\": \"yes\", \"name\": \"Voter 39\"}, {\"x\": 5, \"y\": 9, \"option\": \"no\", \"name\": \"Voter 49\"}, {\"x\": 6, \"y\": 9, \"option\": \"no\", \"name\": \"Voter 59\"}, {\"x\": 7, \"y\": 9, \"option\": \"no\", \"name\": \"Voter 69\"}, {\"x\": 8, \"y\": 9, \"option\": \"no\", \"name\": \"Voter 79\"}, {\"x\": 9, \"y\": 9, \"option\": \"no\", \"name\": \"Voter 89\"}, {\"x\": 10, \"y\": 9, \"option\": \"no\", \"name\": \"Voter 99\"}, {\"x\": 11, \"y\": 9, \"option\": \"no\", \"name\": \"Voter 109\"}, {\"x\": 12, \"y\": 9, \"option\": \"no\", \"name\": \"Voter 119\"}, {\"x\": 13, \"y\": 9, \"option\": \"abstain\", \"name\": \"Voter 129\"}, {\"x\": 1, \"y\": 10, \"option\": \"yes\", \"name\": \"Voter 10\"}, {\"x\": 2, \"y\": 10, \"option\": \"yes\", \"name\": \"Voter 20\"}, {\"x\": 3, \"y\": 10, \"option\": \"yes\", \"name\": \"Voter 30\"}, {\"x\": 4, \"y\": 10, \"option\": \"yes\", \"name\": \"Voter 40\"}, {\"x\": 5, \"y\": 10, \"option\": \"no\", \"name\": \"Voter 50\"}, {\"x\": 6, \"y\": 10, \"option\": \"no\", \"name\": \"Voter 60\"}, {\"x\": 7, \"y\": 10, \"option\": \"no\", \"name\": \"Voter 70\"}, {\"x\": 8, \"y\": 10, \"option\": \"no\", \"name\": \"Voter 80\"}, {\"x\": 9, \"y\": 10, \"option\": \"no\", \"name\": \"Voter 90\"}, {\"x\": 10, \"y\": 10, \"option\": \"no\", \"name\": \"Voter 100\"}, {\"x\": 11, \"y\": 10, \"option\": \"no\", \"name\": \"Voter 110\"}, {\"x\": 12, \"y\": 10, \"option\": \"no\", \"name\": \"Voter 120\"}, {\"x\": 13, \"y\": 10, \"option\": \"abstain\", \"name\": \"Voter 130\"}]}}, {\"mode\": \"vega-lite\"});\n",
       "</script>"
      ],
      "text/plain": [
       "alt.Chart(...)"
      ]
     },
     "execution_count": 72,
     "metadata": {},
     "output_type": "execute_result"
    }
   ],
   "source": [
    "plot_votes(plot_votes_df)"
   ]
  }
 ],
 "metadata": {
  "kernelspec": {
   "display_name": ".venv",
   "language": "python",
   "name": "python3"
  },
  "language_info": {
   "codemirror_mode": {
    "name": "ipython",
    "version": 3
   },
   "file_extension": ".py",
   "mimetype": "text/x-python",
   "name": "python",
   "nbconvert_exporter": "python",
   "pygments_lexer": "ipython3",
   "version": "3.13.1"
  }
 },
 "nbformat": 4,
 "nbformat_minor": 5
}

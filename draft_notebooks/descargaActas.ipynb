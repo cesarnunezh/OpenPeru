{
 "cells": [
  {
   "cell_type": "code",
   "execution_count": 45,
   "id": "initial_id",
   "metadata": {
    "ExecuteTime": {
     "end_time": "2023-10-11T16:01:36.935779100Z",
     "start_time": "2023-10-11T16:01:36.933928600Z"
    },
    "collapsed": true
   },
   "outputs": [],
   "source": [
    "import os\n",
    "import re\n",
    "import requests\n",
    "import pandas as pd\n",
    "from io import StringIO\n",
    "\n",
    "from bs4 import BeautifulSoup\n",
    "import time\n",
    "from lxml import html"
   ]
  },
  {
   "cell_type": "code",
   "execution_count": 16,
   "id": "fc11775cc484135",
   "metadata": {
    "ExecuteTime": {
     "end_time": "2023-10-06T20:17:23.560552300Z",
     "start_time": "2023-10-06T20:17:23.560552300Z"
    },
    "collapsed": false
   },
   "outputs": [],
   "source": [
    "actasComisiones = \"https://www2.congreso.gob.pe/Sicr/ApoyComisiones/comision2011.nsf/03pa_actas2305\"\n"
   ]
  },
  {
   "cell_type": "code",
   "execution_count": 28,
   "id": "df68879965b91517",
   "metadata": {
    "ExecuteTime": {
     "end_time": "2023-10-06T21:19:39.153496600Z",
     "start_time": "2023-10-06T21:19:38.399896600Z"
    },
    "collapsed": false
   },
   "outputs": [
    {
     "name": "stdout",
     "output_type": "stream",
     "text": [
      "The <a> element was not found on the page.\n"
     ]
    }
   ],
   "source": [
    "base_url = actasComisiones\n",
    "\n",
    "response = requests.get(base_url)\n",
    "tree = html.fromstring(response.text)\n",
    "link_element = tree.xpath(\"/html/body/form/p/table[2]/tbody/tr[10]/td[4]/font/a[2]\")\n",
    "if link_element:\n",
    "    # Get the href attribute of the <a> element (the link)\n",
    "    link = link_element[0].get(\"href\")\n",
    "    print(link)\n",
    "else:\n",
    "    print(\"The <a> element was not found on the page.\")\n",
    "\n"
   ]
  },
  {
   "cell_type": "code",
   "execution_count": 15,
   "id": "4f22bc023649dbb0",
   "metadata": {
    "ExecuteTime": {
     "start_time": "2023-10-06T20:13:37.116688800Z"
    },
    "collapsed": false
   },
   "outputs": [],
   "source": [
    "\n",
    "response.raise_for_status()\n",
    "soup = BeautifulSoup(response.content, \"html.parser\")\n",
    "pdf_links = soup.find_all(\"a\", href=lambda href: href and href.endswith(\".pdf\") and (\"SALUD\" in href or \"Salud\" in href or \"salud\" in href))\n"
   ]
  },
  {
   "cell_type": "code",
   "execution_count": 13,
   "id": "f2a71ef5cded0842",
   "metadata": {
    "ExecuteTime": {
     "end_time": "2023-10-06T20:10:35.874428200Z",
     "start_time": "2023-10-06T20:10:32.228030500Z"
    },
    "collapsed": false
   },
   "outputs": [],
   "source": [
    "# Importamos las librerías que utilizaremos\n",
    "import requests\n",
    "from selenium import webdriver\n",
    "from selenium.webdriver.chrome.service import Service\n",
    "\n",
    "from selenium.webdriver.common.by import By"
   ]
  },
  {
   "cell_type": "code",
   "execution_count": 29,
   "id": "ed32e60bcd04c198",
   "metadata": {
    "ExecuteTime": {
     "end_time": "2023-10-06T21:23:04.101458600Z",
     "start_time": "2023-10-06T21:22:44.225249900Z"
    },
    "collapsed": false
   },
   "outputs": [
    {
     "ename": "XPathEvalError",
     "evalue": "Invalid expression",
     "output_type": "error",
     "traceback": [
      "\u001b[1;31m---------------------------------------------------------------------------\u001b[0m",
      "\u001b[1;31mXPathEvalError\u001b[0m                            Traceback (most recent call last)",
      "Cell \u001b[1;32mIn[29], line 39\u001b[0m\n\u001b[0;32m     37\u001b[0m     tree \u001b[38;5;241m=\u001b[39m html\u001b[38;5;241m.\u001b[39mfromstring(response\u001b[38;5;241m.\u001b[39mtext)\n\u001b[0;32m     38\u001b[0m     n_link \u001b[38;5;241m=\u001b[39m comision \u001b[38;5;241m+\u001b[39m n\n\u001b[1;32m---> 39\u001b[0m     link_element \u001b[38;5;241m=\u001b[39m \u001b[43mtree\u001b[49m\u001b[38;5;241;43m.\u001b[39;49m\u001b[43mxpath\u001b[49m\u001b[43m(\u001b[49m\u001b[38;5;124;43m\"\u001b[39;49m\u001b[38;5;124;43m/html/body/form/p/table[2]/tbody/tr[\u001b[39;49m\u001b[38;5;132;43;01m{n_link}\u001b[39;49;00m\u001b[38;5;124;43m]/td[4]/font/a[2]\u001b[39;49m\u001b[38;5;124;43m\"\u001b[39;49m\u001b[43m)\u001b[49m\n\u001b[0;32m     40\u001b[0m     link \u001b[38;5;241m=\u001b[39m link_element[\u001b[38;5;241m0\u001b[39m]\u001b[38;5;241m.\u001b[39mget(\u001b[38;5;124m\"\u001b[39m\u001b[38;5;124mhref\u001b[39m\u001b[38;5;124m\"\u001b[39m)\n\u001b[0;32m     41\u001b[0m click_4b \u001b[38;5;241m=\u001b[39m driver\u001b[38;5;241m.\u001b[39mfind_element( By\u001b[38;5;241m.\u001b[39mXPATH, \u001b[38;5;124mf\u001b[39m\u001b[38;5;124m\"\u001b[39m\u001b[38;5;124m/html/body/form/p/table[2]/tbody/tr[\u001b[39m\u001b[38;5;132;01m{\u001b[39;00mcomision\u001b[38;5;132;01m}\u001b[39;00m\u001b[38;5;124m]/td[2]/table/tbody/tr/td[2]/a/img\u001b[39m\u001b[38;5;124m\"\u001b[39m)\n",
      "File \u001b[1;32msrc\\lxml\\etree.pyx:1600\u001b[0m, in \u001b[0;36mlxml.etree._Element.xpath\u001b[1;34m()\u001b[0m\n",
      "File \u001b[1;32msrc\\lxml\\xpath.pxi:305\u001b[0m, in \u001b[0;36mlxml.etree.XPathElementEvaluator.__call__\u001b[1;34m()\u001b[0m\n",
      "File \u001b[1;32msrc\\lxml\\xpath.pxi:225\u001b[0m, in \u001b[0;36mlxml.etree._XPathEvaluatorBase._handle_result\u001b[1;34m()\u001b[0m\n",
      "\u001b[1;31mXPathEvalError\u001b[0m: Invalid expression"
     ]
    }
   ],
   "source": [
    "# Scrappeo de la web del OSCE\n",
    "# Definimos algunas opciones para abrir la página\n",
    "service = Service()\n",
    "options = webdriver.ChromeOptions()\n",
    "driver = webdriver.Chrome(service=service, options=options)\n",
    "\n",
    "\n",
    "# Abrimos la página\n",
    "driver.maximize_window()\n",
    "\n",
    "driver.get(actasComisiones)\n",
    "\n",
    "perParl = 2 #Va de 2 a 4\n",
    "click_1 = driver.find_element( By.XPATH, f\"/html/body/form/p/table[2]/tbody/tr[{perParl}]/td[1]/table/tbody/tr/td[1]/a/img\")\n",
    "click_1.click()\n",
    "time.sleep(3)\n",
    "\n",
    "perAnual = 3 # va de perParl+1 hasta perParl+5 como máximo\n",
    "click_2 = driver.find_element( By.XPATH, f\"/html/body/form/p/table[2]/tbody/tr[{perAnual}]/td[1]/table/tbody/tr/td[1]/a/img\")\n",
    "click_2.click()\n",
    "time.sleep(3)\n",
    "\n",
    "if perParl == 2:\n",
    "    comOrd = perAnual + 4\n",
    "    click_3 = driver.find_element( By.XPATH, f\"/html/body/form/p/table[2]/tbody/tr[{comOrd}]/td[2]/table/tbody/tr/td[1]/a/img\")\n",
    "    click_3.click()\n",
    "    time.sleep(5)\n",
    "    for i in range(1, 2):\n",
    "        comision = comOrd + i\n",
    "        click_4 = driver.find_element( By.XPATH, f\"/html/body/form/p/table[2]/tbody/tr[{comision}]/td[2]/table/tbody/tr/td[1]/a/img\")\n",
    "        click_4.click()\n",
    "        time.sleep(3)\n",
    "        #DESCARGAR AQUÍ LA INFORMACIÓN\n",
    "        for n in range(1,2):\n",
    "            current_url = driver.current_url\n",
    "            response = requests.get(current_url)\n",
    "            tree = html.fromstring(response.text)\n",
    "            n_link = comision + n\n",
    "            link_element = tree.xpath(\"/html/body/form/p/table[2]/tbody/tr[{n_link}]/td[4]/font/a[2]\")\n",
    "            link = link_element[0].get(\"href\")\n",
    "        click_4b = driver.find_element( By.XPATH, f\"/html/body/form/p/table[2]/tbody/tr[{comision}]/td[2]/table/tbody/tr/td[2]/a/img\")\n",
    "        click_4b.click()\n",
    "else:\n",
    "    comOrd = perAnual + 1 #range(1,24)\n",
    "    click_3 = driver.find_element( By.XPATH, f\"/html/body/form/p/table[2]/tbody/tr[{comOrd}]/td[1]/table/tbody/tr/td[1]/a/img\")\n",
    "    click_3.click()\n",
    "    time.sleep(3)\n",
    "    \n",
    "# for range(1,24)\n",
    "\n",
    "#driver.find_element()"
   ]
  },
  {
   "cell_type": "markdown",
   "id": "83f399f9c854c36b",
   "metadata": {
    "collapsed": false
   },
   "source": [
    "# Integrantes de grupos parlamentarios\n",
    "Scrappeo de la web del congreso para construir una base de datos con la información de todos los congresistas de los periodos parlamentarios desde 1992 hasta el 2026"
   ]
  },
  {
   "cell_type": "code",
   "execution_count": 35,
   "id": "9d58656c7fde51f3",
   "metadata": {
    "ExecuteTime": {
     "end_time": "2023-10-11T15:43:03.029414400Z",
     "start_time": "2023-10-11T15:42:50.629759600Z"
    },
    "collapsed": false
   },
   "outputs": [],
   "source": [
    "keyList = ['CCD 1992-1995', '1995-2000','2000-2001','2001-2006','2006-2011','2011-2016','2016-2021','2021-2026']\n",
    "\n",
    "linkList = ['https://www.congreso.gob.pe/pleno/congresistas/?=undefined&m1_idP=1','https://www.congreso.gob.pe/pleno/congresistas/?=undefined&m1_idP=2','https://www.congreso.gob.pe/pleno/congresistas/?=undefined&m1_idP=3','https://www.congreso.gob.pe/pleno/congresistas/?=undefined&m1_idP=4','https://www.congreso.gob.pe/pleno/congresistas/?=undefined&m1_idP=5','https://www.congreso.gob.pe/pleno/congresistas/?=undefined&m1_idP=6','https://www.congreso.gob.pe/pleno/congresistas/?=undefined&m1_idP=7','https://www.congreso.gob.pe/pleno/congresistas/?=undefined&m1_idP=13']\n",
    "\n",
    "for i, key in enumerate(keyList):\n",
    "    url = linkList[i]\n",
    "    headers = {'User-Agent' : 'Mozilla/5.0 (Windows NT 10.0; Win64; x64) AppleWebKit/537.36 (KHTML, like Gecko) Chrome/117.0.0.0 Safari/537.36', }\n",
    "    response = requests.get(url, headers = headers)\n",
    "    html_io = StringIO(response.text)\n",
    "    df = pd.read_html(html_io)\n",
    "    df = df[0]\n",
    "    df['Periodo'] = key\n",
    "    if i == 0 :\n",
    "        dfCongresistas = df\n",
    "    else:\n",
    "        dfCongresistas = pd.concat([dfCongresistas, df])\n",
    "\n",
    "dfCongresistas = dfCongresistas.iloc[:,1:]"
   ]
  },
  {
   "cell_type": "code",
   "execution_count": 57,
   "id": "77a6d2277cb63e4a",
   "metadata": {
    "ExecuteTime": {
     "end_time": "2023-10-11T16:14:01.493317500Z",
     "start_time": "2023-10-11T16:14:01.486617600Z"
    },
    "collapsed": false
   },
   "outputs": [],
   "source": [
    "# Your HTML content\n",
    "def extraeInfoCongresista(textHtml):\n",
    "    html_content = textHtml\n",
    "\n",
    "    # Parse the HTML with BeautifulSoup\n",
    "    soup = BeautifulSoup(html_content, 'html.parser')\n",
    "\n",
    "    # Initialize an empty dictionary to store the key-value pairs\n",
    "    info_dict = {}\n",
    "\n",
    "    # Find all spans with class 'field' and their corresponding values\n",
    "    field_spans = soup.find_all('span', class_='field')\n",
    "    for field_span in field_spans:\n",
    "        key = field_span.get_text(strip=True)\n",
    "        value_span = field_span.find_next_sibling('span')\n",
    "        value = value_span.get_text(strip=True) if value_span else None\n",
    "        info_dict[key] = value\n",
    "\n",
    "    # List of keys you want to select\n",
    "    selected_keys = [\"Nombres:\", \"Votación Obtenida:\", \"Inicio:\", \"Término:\", \"Grupo o Partido Político:\", \"Bancada:\", \"Representa a:\", \"Condición:\"]\n",
    "\n",
    "    # Create a new dictionary with only the selected keys\n",
    "    selected_info = {key: info_dict[key] for key in selected_keys}\n",
    "\n",
    "    return selected_info"
   ]
  },
  {
   "cell_type": "code",
   "execution_count": 65,
   "id": "961fafb79de2315a",
   "metadata": {
    "ExecuteTime": {
     "end_time": "2023-10-11T16:35:39.786976300Z",
     "start_time": "2023-10-11T16:17:05.807854Z"
    },
    "collapsed": false
   },
   "outputs": [],
   "source": [
    "congList = []\n",
    "\n",
    "for id in range(1,1166):\n",
    "    link = 'https://www.congreso.gob.pe/pleno/congresistas/?K=290&TPL=if0&a=iv&id=' + str(id)\n",
    "    headers = {'User-Agent' : 'Mozilla/5.0 (Windows NT 10.0; Win64; x64) AppleWebKit/537.36 (KHTML, like Gecko) Chrome/117.0.0.0 Safari/537.36', }\n",
    "    response = requests.get(link, headers = headers)\n",
    "    \n",
    "    infoCong = extraeInfoCongresista(response.text)\n",
    "    congList.append(infoCong)\n",
    "    \n",
    "dfCongresistas2 = pd.DataFrame(congList)"
   ]
  },
  {
   "cell_type": "code",
   "execution_count": 70,
   "id": "a8962fea1a7f2b87",
   "metadata": {
    "ExecuteTime": {
     "end_time": "2023-10-11T16:40:13.116729800Z",
     "start_time": "2023-10-11T16:40:13.106825900Z"
    },
    "collapsed": false
   },
   "outputs": [],
   "source": [
    "dfCongresistas2 = dfCongresistas2.reset_index()\n",
    "dfCongresistas2['id'] = dfCongresistas2['index'] + 1\n",
    "dfCongresistas2 = dfCongresistas2.iloc[:,1:]"
   ]
  },
  {
   "cell_type": "markdown",
   "id": "88fbed750be09e55",
   "metadata": {
    "collapsed": false
   },
   "source": [
    "# Votaciones de congresistas en el Pleno"
   ]
  },
  {
   "cell_type": "code",
   "execution_count": 164,
   "id": "c3784a7ac398e837",
   "metadata": {
    "ExecuteTime": {
     "end_time": "2023-10-11T22:25:11.856218800Z",
     "start_time": "2023-10-11T22:25:11.856218800Z"
    },
    "collapsed": false
   },
   "outputs": [],
   "source": [
    "def extraeListaLinks(textHtml):\n",
    "    html_content = textHtml\n",
    "    soup = BeautifulSoup(html_content, 'html.parser')\n",
    "    href_tags = soup.find_all(\"a\", href=lambda href: href  and (\"vot\" in href or \"VOT\" in href or \"Vot\" in href) and (\"Apleno\" in href))\n",
    "\n",
    "    pdf_list = []\n",
    "    for a in href_tags:\n",
    "        link = a.attrs['href']\n",
    "        pdf_list.append(link)\n",
    "    \n",
    "    for i, link in enumerate(pdf_list):\n",
    "        match = re.search(r\"javascript:openWindow\\('(.+?)'\\)\", link)\n",
    "        pdf_list[i]= match.group(1)\n",
    "        \n",
    "            \n",
    "    return pdf_list"
   ]
  },
  {
   "cell_type": "code",
   "execution_count": 165,
   "id": "8f74193035f0e121",
   "metadata": {
    "ExecuteTime": {
     "end_time": "2023-10-11T22:25:15.843690700Z",
     "start_time": "2023-10-11T22:25:14.005089500Z"
    },
    "collapsed": false
   },
   "outputs": [],
   "source": [
    "urlVotaciones = \"https://www2.congreso.gob.pe/Sicr/RelatAgenda/PlenoComiPerm20112016.nsf/new_asistenciavotacion?OpenForm&ExpandView\"\n",
    "\n",
    "url = urlVotaciones\n",
    "headers = {'User-Agent' : 'Mozilla/5.0 (Windows NT 10.0; Win64; x64) AppleWebKit/537.36 (KHTML, like Gecko) Chrome/117.0.0.0 Safari/537.36', }\n",
    "response = requests.get(url, headers = headers)\n",
    "\n",
    "text = response.text\n",
    "linkList = extraeListaLinks(textHtml = text)\n",
    "\n"
   ]
  },
  {
   "cell_type": "markdown",
   "id": "cf27eb5ae9c5ebef",
   "metadata": {
    "collapsed": false
   },
   "source": [
    "## Descarga de todos los pdf o Uso de los PDF con open()"
   ]
  },
  {
   "cell_type": "code",
   "execution_count": 132,
   "id": "d064410e5f01a1d6",
   "metadata": {
    "ExecuteTime": {
     "end_time": "2023-10-11T21:45:12.788321Z",
     "start_time": "2023-10-11T21:44:50.928614800Z"
    },
    "collapsed": false
   },
   "outputs": [
    {
     "name": "stdout",
     "output_type": "stream",
     "text": [
      "Downloaded Asis_vot_PROVISIONAL_matinal_05-10-23.pdf\n",
      "Downloaded Asis_vot_PROVISIONAL_vespertina_05-10-23.pdf\n",
      "Downloaded Asis_PROVISIONAL_05-10-23.pdf\n",
      "Downloaded Asis_vot_PROVISIONAL_4-10-23.pdf\n",
      "Downloaded Asis_vot_OFICIAL_21-09-23.pdf\n",
      "Downloaded Asis_OFICIAL_sesión_solemne_20-09-23.pdf\n"
     ]
    },
    {
     "ename": "KeyboardInterrupt",
     "evalue": "",
     "output_type": "error",
     "traceback": [
      "\u001b[1;31m---------------------------------------------------------------------------\u001b[0m",
      "\u001b[1;31mKeyboardInterrupt\u001b[0m                         Traceback (most recent call last)",
      "Cell \u001b[1;32mIn[132], line 17\u001b[0m\n\u001b[0;32m     14\u001b[0m     \u001b[38;5;28;01mcontinue\u001b[39;00m\n\u001b[0;32m     16\u001b[0m pdf_path \u001b[38;5;241m=\u001b[39m os\u001b[38;5;241m.\u001b[39mpath\u001b[38;5;241m.\u001b[39mjoin(download_dir, pdf_name)\n\u001b[1;32m---> 17\u001b[0m response \u001b[38;5;241m=\u001b[39m \u001b[43mrequests\u001b[49m\u001b[38;5;241;43m.\u001b[39;49m\u001b[43mget\u001b[49m\u001b[43m(\u001b[49m\u001b[43mpdf_url\u001b[49m\u001b[43m)\u001b[49m\n\u001b[0;32m     19\u001b[0m \u001b[38;5;28;01mwith\u001b[39;00m \u001b[38;5;28mopen\u001b[39m(pdf_path, \u001b[38;5;124m'\u001b[39m\u001b[38;5;124mwb\u001b[39m\u001b[38;5;124m'\u001b[39m) \u001b[38;5;28;01mas\u001b[39;00m file:\n\u001b[0;32m     20\u001b[0m     file\u001b[38;5;241m.\u001b[39mwrite(response\u001b[38;5;241m.\u001b[39mcontent)\n",
      "File \u001b[1;32m~\\AppData\\Local\\Programs\\Python\\Python311\\Lib\\site-packages\\requests\\api.py:73\u001b[0m, in \u001b[0;36mget\u001b[1;34m(url, params, **kwargs)\u001b[0m\n\u001b[0;32m     62\u001b[0m \u001b[38;5;28;01mdef\u001b[39;00m \u001b[38;5;21mget\u001b[39m(url, params\u001b[38;5;241m=\u001b[39m\u001b[38;5;28;01mNone\u001b[39;00m, \u001b[38;5;241m*\u001b[39m\u001b[38;5;241m*\u001b[39mkwargs):\n\u001b[0;32m     63\u001b[0m \u001b[38;5;250m    \u001b[39m\u001b[38;5;124mr\u001b[39m\u001b[38;5;124;03m\"\"\"Sends a GET request.\u001b[39;00m\n\u001b[0;32m     64\u001b[0m \n\u001b[0;32m     65\u001b[0m \u001b[38;5;124;03m    :param url: URL for the new :class:`Request` object.\u001b[39;00m\n\u001b[1;32m   (...)\u001b[0m\n\u001b[0;32m     70\u001b[0m \u001b[38;5;124;03m    :rtype: requests.Response\u001b[39;00m\n\u001b[0;32m     71\u001b[0m \u001b[38;5;124;03m    \"\"\"\u001b[39;00m\n\u001b[1;32m---> 73\u001b[0m     \u001b[38;5;28;01mreturn\u001b[39;00m \u001b[43mrequest\u001b[49m\u001b[43m(\u001b[49m\u001b[38;5;124;43m\"\u001b[39;49m\u001b[38;5;124;43mget\u001b[39;49m\u001b[38;5;124;43m\"\u001b[39;49m\u001b[43m,\u001b[49m\u001b[43m \u001b[49m\u001b[43murl\u001b[49m\u001b[43m,\u001b[49m\u001b[43m \u001b[49m\u001b[43mparams\u001b[49m\u001b[38;5;241;43m=\u001b[39;49m\u001b[43mparams\u001b[49m\u001b[43m,\u001b[49m\u001b[43m \u001b[49m\u001b[38;5;241;43m*\u001b[39;49m\u001b[38;5;241;43m*\u001b[39;49m\u001b[43mkwargs\u001b[49m\u001b[43m)\u001b[49m\n",
      "File \u001b[1;32m~\\AppData\\Local\\Programs\\Python\\Python311\\Lib\\site-packages\\requests\\api.py:59\u001b[0m, in \u001b[0;36mrequest\u001b[1;34m(method, url, **kwargs)\u001b[0m\n\u001b[0;32m     55\u001b[0m \u001b[38;5;66;03m# By using the 'with' statement we are sure the session is closed, thus we\u001b[39;00m\n\u001b[0;32m     56\u001b[0m \u001b[38;5;66;03m# avoid leaving sockets open which can trigger a ResourceWarning in some\u001b[39;00m\n\u001b[0;32m     57\u001b[0m \u001b[38;5;66;03m# cases, and look like a memory leak in others.\u001b[39;00m\n\u001b[0;32m     58\u001b[0m \u001b[38;5;28;01mwith\u001b[39;00m sessions\u001b[38;5;241m.\u001b[39mSession() \u001b[38;5;28;01mas\u001b[39;00m session:\n\u001b[1;32m---> 59\u001b[0m     \u001b[38;5;28;01mreturn\u001b[39;00m \u001b[43msession\u001b[49m\u001b[38;5;241;43m.\u001b[39;49m\u001b[43mrequest\u001b[49m\u001b[43m(\u001b[49m\u001b[43mmethod\u001b[49m\u001b[38;5;241;43m=\u001b[39;49m\u001b[43mmethod\u001b[49m\u001b[43m,\u001b[49m\u001b[43m \u001b[49m\u001b[43murl\u001b[49m\u001b[38;5;241;43m=\u001b[39;49m\u001b[43murl\u001b[49m\u001b[43m,\u001b[49m\u001b[43m \u001b[49m\u001b[38;5;241;43m*\u001b[39;49m\u001b[38;5;241;43m*\u001b[39;49m\u001b[43mkwargs\u001b[49m\u001b[43m)\u001b[49m\n",
      "File \u001b[1;32m~\\AppData\\Local\\Programs\\Python\\Python311\\Lib\\site-packages\\requests\\sessions.py:589\u001b[0m, in \u001b[0;36mSession.request\u001b[1;34m(self, method, url, params, data, headers, cookies, files, auth, timeout, allow_redirects, proxies, hooks, stream, verify, cert, json)\u001b[0m\n\u001b[0;32m    584\u001b[0m send_kwargs \u001b[38;5;241m=\u001b[39m {\n\u001b[0;32m    585\u001b[0m     \u001b[38;5;124m\"\u001b[39m\u001b[38;5;124mtimeout\u001b[39m\u001b[38;5;124m\"\u001b[39m: timeout,\n\u001b[0;32m    586\u001b[0m     \u001b[38;5;124m\"\u001b[39m\u001b[38;5;124mallow_redirects\u001b[39m\u001b[38;5;124m\"\u001b[39m: allow_redirects,\n\u001b[0;32m    587\u001b[0m }\n\u001b[0;32m    588\u001b[0m send_kwargs\u001b[38;5;241m.\u001b[39mupdate(settings)\n\u001b[1;32m--> 589\u001b[0m resp \u001b[38;5;241m=\u001b[39m \u001b[38;5;28;43mself\u001b[39;49m\u001b[38;5;241;43m.\u001b[39;49m\u001b[43msend\u001b[49m\u001b[43m(\u001b[49m\u001b[43mprep\u001b[49m\u001b[43m,\u001b[49m\u001b[43m \u001b[49m\u001b[38;5;241;43m*\u001b[39;49m\u001b[38;5;241;43m*\u001b[39;49m\u001b[43msend_kwargs\u001b[49m\u001b[43m)\u001b[49m\n\u001b[0;32m    591\u001b[0m \u001b[38;5;28;01mreturn\u001b[39;00m resp\n",
      "File \u001b[1;32m~\\AppData\\Local\\Programs\\Python\\Python311\\Lib\\site-packages\\requests\\sessions.py:747\u001b[0m, in \u001b[0;36mSession.send\u001b[1;34m(self, request, **kwargs)\u001b[0m\n\u001b[0;32m    744\u001b[0m         \u001b[38;5;28;01mpass\u001b[39;00m\n\u001b[0;32m    746\u001b[0m \u001b[38;5;28;01mif\u001b[39;00m \u001b[38;5;129;01mnot\u001b[39;00m stream:\n\u001b[1;32m--> 747\u001b[0m     \u001b[43mr\u001b[49m\u001b[38;5;241;43m.\u001b[39;49m\u001b[43mcontent\u001b[49m\n\u001b[0;32m    749\u001b[0m \u001b[38;5;28;01mreturn\u001b[39;00m r\n",
      "File \u001b[1;32m~\\AppData\\Local\\Programs\\Python\\Python311\\Lib\\site-packages\\requests\\models.py:899\u001b[0m, in \u001b[0;36mResponse.content\u001b[1;34m(self)\u001b[0m\n\u001b[0;32m    897\u001b[0m         \u001b[38;5;28mself\u001b[39m\u001b[38;5;241m.\u001b[39m_content \u001b[38;5;241m=\u001b[39m \u001b[38;5;28;01mNone\u001b[39;00m\n\u001b[0;32m    898\u001b[0m     \u001b[38;5;28;01melse\u001b[39;00m:\n\u001b[1;32m--> 899\u001b[0m         \u001b[38;5;28mself\u001b[39m\u001b[38;5;241m.\u001b[39m_content \u001b[38;5;241m=\u001b[39m \u001b[38;5;124mb\u001b[39m\u001b[38;5;124m\"\u001b[39m\u001b[38;5;124m\"\u001b[39m\u001b[38;5;241m.\u001b[39mjoin(\u001b[38;5;28mself\u001b[39m\u001b[38;5;241m.\u001b[39miter_content(CONTENT_CHUNK_SIZE)) \u001b[38;5;129;01mor\u001b[39;00m \u001b[38;5;124mb\u001b[39m\u001b[38;5;124m\"\u001b[39m\u001b[38;5;124m\"\u001b[39m\n\u001b[0;32m    901\u001b[0m \u001b[38;5;28mself\u001b[39m\u001b[38;5;241m.\u001b[39m_content_consumed \u001b[38;5;241m=\u001b[39m \u001b[38;5;28;01mTrue\u001b[39;00m\n\u001b[0;32m    902\u001b[0m \u001b[38;5;66;03m# don't need to release the connection; that's been handled by urllib3\u001b[39;00m\n\u001b[0;32m    903\u001b[0m \u001b[38;5;66;03m# since we exhausted the data.\u001b[39;00m\n",
      "File \u001b[1;32m~\\AppData\\Local\\Programs\\Python\\Python311\\Lib\\site-packages\\requests\\models.py:816\u001b[0m, in \u001b[0;36mResponse.iter_content.<locals>.generate\u001b[1;34m()\u001b[0m\n\u001b[0;32m    814\u001b[0m \u001b[38;5;28;01mif\u001b[39;00m \u001b[38;5;28mhasattr\u001b[39m(\u001b[38;5;28mself\u001b[39m\u001b[38;5;241m.\u001b[39mraw, \u001b[38;5;124m\"\u001b[39m\u001b[38;5;124mstream\u001b[39m\u001b[38;5;124m\"\u001b[39m):\n\u001b[0;32m    815\u001b[0m     \u001b[38;5;28;01mtry\u001b[39;00m:\n\u001b[1;32m--> 816\u001b[0m         \u001b[38;5;28;01myield from\u001b[39;00m \u001b[38;5;28mself\u001b[39m\u001b[38;5;241m.\u001b[39mraw\u001b[38;5;241m.\u001b[39mstream(chunk_size, decode_content\u001b[38;5;241m=\u001b[39m\u001b[38;5;28;01mTrue\u001b[39;00m)\n\u001b[0;32m    817\u001b[0m     \u001b[38;5;28;01mexcept\u001b[39;00m ProtocolError \u001b[38;5;28;01mas\u001b[39;00m e:\n\u001b[0;32m    818\u001b[0m         \u001b[38;5;28;01mraise\u001b[39;00m ChunkedEncodingError(e)\n",
      "File \u001b[1;32m~\\AppData\\Local\\Programs\\Python\\Python311\\Lib\\site-packages\\urllib3\\response.py:940\u001b[0m, in \u001b[0;36mHTTPResponse.stream\u001b[1;34m(self, amt, decode_content)\u001b[0m\n\u001b[0;32m    938\u001b[0m \u001b[38;5;28;01melse\u001b[39;00m:\n\u001b[0;32m    939\u001b[0m     \u001b[38;5;28;01mwhile\u001b[39;00m \u001b[38;5;129;01mnot\u001b[39;00m is_fp_closed(\u001b[38;5;28mself\u001b[39m\u001b[38;5;241m.\u001b[39m_fp) \u001b[38;5;129;01mor\u001b[39;00m \u001b[38;5;28mlen\u001b[39m(\u001b[38;5;28mself\u001b[39m\u001b[38;5;241m.\u001b[39m_decoded_buffer) \u001b[38;5;241m>\u001b[39m \u001b[38;5;241m0\u001b[39m:\n\u001b[1;32m--> 940\u001b[0m         data \u001b[38;5;241m=\u001b[39m \u001b[38;5;28;43mself\u001b[39;49m\u001b[38;5;241;43m.\u001b[39;49m\u001b[43mread\u001b[49m\u001b[43m(\u001b[49m\u001b[43mamt\u001b[49m\u001b[38;5;241;43m=\u001b[39;49m\u001b[43mamt\u001b[49m\u001b[43m,\u001b[49m\u001b[43m \u001b[49m\u001b[43mdecode_content\u001b[49m\u001b[38;5;241;43m=\u001b[39;49m\u001b[43mdecode_content\u001b[49m\u001b[43m)\u001b[49m\n\u001b[0;32m    942\u001b[0m         \u001b[38;5;28;01mif\u001b[39;00m data:\n\u001b[0;32m    943\u001b[0m             \u001b[38;5;28;01myield\u001b[39;00m data\n",
      "File \u001b[1;32m~\\AppData\\Local\\Programs\\Python\\Python311\\Lib\\site-packages\\urllib3\\response.py:879\u001b[0m, in \u001b[0;36mHTTPResponse.read\u001b[1;34m(self, amt, decode_content, cache_content)\u001b[0m\n\u001b[0;32m    876\u001b[0m     \u001b[38;5;28;01mif\u001b[39;00m \u001b[38;5;28mlen\u001b[39m(\u001b[38;5;28mself\u001b[39m\u001b[38;5;241m.\u001b[39m_decoded_buffer) \u001b[38;5;241m>\u001b[39m\u001b[38;5;241m=\u001b[39m amt:\n\u001b[0;32m    877\u001b[0m         \u001b[38;5;28;01mreturn\u001b[39;00m \u001b[38;5;28mself\u001b[39m\u001b[38;5;241m.\u001b[39m_decoded_buffer\u001b[38;5;241m.\u001b[39mget(amt)\n\u001b[1;32m--> 879\u001b[0m data \u001b[38;5;241m=\u001b[39m \u001b[38;5;28;43mself\u001b[39;49m\u001b[38;5;241;43m.\u001b[39;49m\u001b[43m_raw_read\u001b[49m\u001b[43m(\u001b[49m\u001b[43mamt\u001b[49m\u001b[43m)\u001b[49m\n\u001b[0;32m    881\u001b[0m flush_decoder \u001b[38;5;241m=\u001b[39m \u001b[38;5;28;01mFalse\u001b[39;00m\n\u001b[0;32m    882\u001b[0m \u001b[38;5;28;01mif\u001b[39;00m amt \u001b[38;5;129;01mis\u001b[39;00m \u001b[38;5;28;01mNone\u001b[39;00m:\n",
      "File \u001b[1;32m~\\AppData\\Local\\Programs\\Python\\Python311\\Lib\\site-packages\\urllib3\\response.py:814\u001b[0m, in \u001b[0;36mHTTPResponse._raw_read\u001b[1;34m(self, amt)\u001b[0m\n\u001b[0;32m    811\u001b[0m fp_closed \u001b[38;5;241m=\u001b[39m \u001b[38;5;28mgetattr\u001b[39m(\u001b[38;5;28mself\u001b[39m\u001b[38;5;241m.\u001b[39m_fp, \u001b[38;5;124m\"\u001b[39m\u001b[38;5;124mclosed\u001b[39m\u001b[38;5;124m\"\u001b[39m, \u001b[38;5;28;01mFalse\u001b[39;00m)\n\u001b[0;32m    813\u001b[0m \u001b[38;5;28;01mwith\u001b[39;00m \u001b[38;5;28mself\u001b[39m\u001b[38;5;241m.\u001b[39m_error_catcher():\n\u001b[1;32m--> 814\u001b[0m     data \u001b[38;5;241m=\u001b[39m \u001b[38;5;28;43mself\u001b[39;49m\u001b[38;5;241;43m.\u001b[39;49m\u001b[43m_fp_read\u001b[49m\u001b[43m(\u001b[49m\u001b[43mamt\u001b[49m\u001b[43m)\u001b[49m \u001b[38;5;28;01mif\u001b[39;00m \u001b[38;5;129;01mnot\u001b[39;00m fp_closed \u001b[38;5;28;01melse\u001b[39;00m \u001b[38;5;124mb\u001b[39m\u001b[38;5;124m\"\u001b[39m\u001b[38;5;124m\"\u001b[39m\n\u001b[0;32m    815\u001b[0m     \u001b[38;5;28;01mif\u001b[39;00m amt \u001b[38;5;129;01mis\u001b[39;00m \u001b[38;5;129;01mnot\u001b[39;00m \u001b[38;5;28;01mNone\u001b[39;00m \u001b[38;5;129;01mand\u001b[39;00m amt \u001b[38;5;241m!=\u001b[39m \u001b[38;5;241m0\u001b[39m \u001b[38;5;129;01mand\u001b[39;00m \u001b[38;5;129;01mnot\u001b[39;00m data:\n\u001b[0;32m    816\u001b[0m         \u001b[38;5;66;03m# Platform-specific: Buggy versions of Python.\u001b[39;00m\n\u001b[0;32m    817\u001b[0m         \u001b[38;5;66;03m# Close the connection when no data is returned\u001b[39;00m\n\u001b[1;32m   (...)\u001b[0m\n\u001b[0;32m    822\u001b[0m         \u001b[38;5;66;03m# not properly close the connection in all cases. There is\u001b[39;00m\n\u001b[0;32m    823\u001b[0m         \u001b[38;5;66;03m# no harm in redundantly calling close.\u001b[39;00m\n\u001b[0;32m    824\u001b[0m         \u001b[38;5;28mself\u001b[39m\u001b[38;5;241m.\u001b[39m_fp\u001b[38;5;241m.\u001b[39mclose()\n",
      "File \u001b[1;32m~\\AppData\\Local\\Programs\\Python\\Python311\\Lib\\site-packages\\urllib3\\response.py:799\u001b[0m, in \u001b[0;36mHTTPResponse._fp_read\u001b[1;34m(self, amt)\u001b[0m\n\u001b[0;32m    796\u001b[0m     \u001b[38;5;28;01mreturn\u001b[39;00m buffer\u001b[38;5;241m.\u001b[39mgetvalue()\n\u001b[0;32m    797\u001b[0m \u001b[38;5;28;01melse\u001b[39;00m:\n\u001b[0;32m    798\u001b[0m     \u001b[38;5;66;03m# StringIO doesn't like amt=None\u001b[39;00m\n\u001b[1;32m--> 799\u001b[0m     \u001b[38;5;28;01mreturn\u001b[39;00m \u001b[38;5;28;43mself\u001b[39;49m\u001b[38;5;241;43m.\u001b[39;49m\u001b[43m_fp\u001b[49m\u001b[38;5;241;43m.\u001b[39;49m\u001b[43mread\u001b[49m\u001b[43m(\u001b[49m\u001b[43mamt\u001b[49m\u001b[43m)\u001b[49m \u001b[38;5;28;01mif\u001b[39;00m amt \u001b[38;5;129;01mis\u001b[39;00m \u001b[38;5;129;01mnot\u001b[39;00m \u001b[38;5;28;01mNone\u001b[39;00m \u001b[38;5;28;01melse\u001b[39;00m \u001b[38;5;28mself\u001b[39m\u001b[38;5;241m.\u001b[39m_fp\u001b[38;5;241m.\u001b[39mread()\n",
      "File \u001b[1;32m~\\AppData\\Local\\Programs\\Python\\Python311\\Lib\\http\\client.py:466\u001b[0m, in \u001b[0;36mHTTPResponse.read\u001b[1;34m(self, amt)\u001b[0m\n\u001b[0;32m    463\u001b[0m \u001b[38;5;28;01mif\u001b[39;00m \u001b[38;5;28mself\u001b[39m\u001b[38;5;241m.\u001b[39mlength \u001b[38;5;129;01mis\u001b[39;00m \u001b[38;5;129;01mnot\u001b[39;00m \u001b[38;5;28;01mNone\u001b[39;00m \u001b[38;5;129;01mand\u001b[39;00m amt \u001b[38;5;241m>\u001b[39m \u001b[38;5;28mself\u001b[39m\u001b[38;5;241m.\u001b[39mlength:\n\u001b[0;32m    464\u001b[0m     \u001b[38;5;66;03m# clip the read to the \"end of response\"\u001b[39;00m\n\u001b[0;32m    465\u001b[0m     amt \u001b[38;5;241m=\u001b[39m \u001b[38;5;28mself\u001b[39m\u001b[38;5;241m.\u001b[39mlength\n\u001b[1;32m--> 466\u001b[0m s \u001b[38;5;241m=\u001b[39m \u001b[38;5;28mself\u001b[39m\u001b[38;5;241m.\u001b[39mfp\u001b[38;5;241m.\u001b[39mread(amt)\n\u001b[0;32m    467\u001b[0m \u001b[38;5;28;01mif\u001b[39;00m \u001b[38;5;129;01mnot\u001b[39;00m s \u001b[38;5;129;01mand\u001b[39;00m amt:\n\u001b[0;32m    468\u001b[0m     \u001b[38;5;66;03m# Ideally, we would raise IncompleteRead if the content-length\u001b[39;00m\n\u001b[0;32m    469\u001b[0m     \u001b[38;5;66;03m# wasn't satisfied, but it might break compatibility.\u001b[39;00m\n\u001b[0;32m    470\u001b[0m     \u001b[38;5;28mself\u001b[39m\u001b[38;5;241m.\u001b[39m_close_conn()\n",
      "File \u001b[1;32m~\\AppData\\Local\\Programs\\Python\\Python311\\Lib\\socket.py:706\u001b[0m, in \u001b[0;36mSocketIO.readinto\u001b[1;34m(self, b)\u001b[0m\n\u001b[0;32m    704\u001b[0m \u001b[38;5;28;01mwhile\u001b[39;00m \u001b[38;5;28;01mTrue\u001b[39;00m:\n\u001b[0;32m    705\u001b[0m     \u001b[38;5;28;01mtry\u001b[39;00m:\n\u001b[1;32m--> 706\u001b[0m         \u001b[38;5;28;01mreturn\u001b[39;00m \u001b[38;5;28;43mself\u001b[39;49m\u001b[38;5;241;43m.\u001b[39;49m\u001b[43m_sock\u001b[49m\u001b[38;5;241;43m.\u001b[39;49m\u001b[43mrecv_into\u001b[49m\u001b[43m(\u001b[49m\u001b[43mb\u001b[49m\u001b[43m)\u001b[49m\n\u001b[0;32m    707\u001b[0m     \u001b[38;5;28;01mexcept\u001b[39;00m timeout:\n\u001b[0;32m    708\u001b[0m         \u001b[38;5;28mself\u001b[39m\u001b[38;5;241m.\u001b[39m_timeout_occurred \u001b[38;5;241m=\u001b[39m \u001b[38;5;28;01mTrue\u001b[39;00m\n",
      "File \u001b[1;32m~\\AppData\\Local\\Programs\\Python\\Python311\\Lib\\ssl.py:1311\u001b[0m, in \u001b[0;36mSSLSocket.recv_into\u001b[1;34m(self, buffer, nbytes, flags)\u001b[0m\n\u001b[0;32m   1307\u001b[0m     \u001b[38;5;28;01mif\u001b[39;00m flags \u001b[38;5;241m!=\u001b[39m \u001b[38;5;241m0\u001b[39m:\n\u001b[0;32m   1308\u001b[0m         \u001b[38;5;28;01mraise\u001b[39;00m \u001b[38;5;167;01mValueError\u001b[39;00m(\n\u001b[0;32m   1309\u001b[0m           \u001b[38;5;124m\"\u001b[39m\u001b[38;5;124mnon-zero flags not allowed in calls to recv_into() on \u001b[39m\u001b[38;5;132;01m%s\u001b[39;00m\u001b[38;5;124m\"\u001b[39m \u001b[38;5;241m%\u001b[39m\n\u001b[0;32m   1310\u001b[0m           \u001b[38;5;28mself\u001b[39m\u001b[38;5;241m.\u001b[39m\u001b[38;5;18m__class__\u001b[39m)\n\u001b[1;32m-> 1311\u001b[0m     \u001b[38;5;28;01mreturn\u001b[39;00m \u001b[38;5;28;43mself\u001b[39;49m\u001b[38;5;241;43m.\u001b[39;49m\u001b[43mread\u001b[49m\u001b[43m(\u001b[49m\u001b[43mnbytes\u001b[49m\u001b[43m,\u001b[49m\u001b[43m \u001b[49m\u001b[43mbuffer\u001b[49m\u001b[43m)\u001b[49m\n\u001b[0;32m   1312\u001b[0m \u001b[38;5;28;01melse\u001b[39;00m:\n\u001b[0;32m   1313\u001b[0m     \u001b[38;5;28;01mreturn\u001b[39;00m \u001b[38;5;28msuper\u001b[39m()\u001b[38;5;241m.\u001b[39mrecv_into(buffer, nbytes, flags)\n",
      "File \u001b[1;32m~\\AppData\\Local\\Programs\\Python\\Python311\\Lib\\ssl.py:1167\u001b[0m, in \u001b[0;36mSSLSocket.read\u001b[1;34m(self, len, buffer)\u001b[0m\n\u001b[0;32m   1165\u001b[0m \u001b[38;5;28;01mtry\u001b[39;00m:\n\u001b[0;32m   1166\u001b[0m     \u001b[38;5;28;01mif\u001b[39;00m buffer \u001b[38;5;129;01mis\u001b[39;00m \u001b[38;5;129;01mnot\u001b[39;00m \u001b[38;5;28;01mNone\u001b[39;00m:\n\u001b[1;32m-> 1167\u001b[0m         \u001b[38;5;28;01mreturn\u001b[39;00m \u001b[38;5;28;43mself\u001b[39;49m\u001b[38;5;241;43m.\u001b[39;49m\u001b[43m_sslobj\u001b[49m\u001b[38;5;241;43m.\u001b[39;49m\u001b[43mread\u001b[49m\u001b[43m(\u001b[49m\u001b[38;5;28;43mlen\u001b[39;49m\u001b[43m,\u001b[49m\u001b[43m \u001b[49m\u001b[43mbuffer\u001b[49m\u001b[43m)\u001b[49m\n\u001b[0;32m   1168\u001b[0m     \u001b[38;5;28;01melse\u001b[39;00m:\n\u001b[0;32m   1169\u001b[0m         \u001b[38;5;28;01mreturn\u001b[39;00m \u001b[38;5;28mself\u001b[39m\u001b[38;5;241m.\u001b[39m_sslobj\u001b[38;5;241m.\u001b[39mread(\u001b[38;5;28mlen\u001b[39m)\n",
      "\u001b[1;31mKeyboardInterrupt\u001b[0m: "
     ]
    }
   ],
   "source": [
    "path = r'C:\\Users\\User\\OneDrive - Universidad del Pacífico\\1. Documentos\\0. Bases de datos\\12. Congreso'\n",
    "download_dir = path + \"\\pdf_votaciones_pleno\"\n",
    "if not os.path.exists(download_dir):\n",
    "    os.makedirs(download_dir)\n",
    "\n",
    "base_url = 'https://www2.congreso.gob.pe/Sicr/RelatAgenda/PlenoComiPerm20112016.nsf/'\n",
    "downloaded_files = set()\n",
    "\n",
    "for link in linkList:\n",
    "    pdf_url= base_url + link\n",
    "    pdf_name = pdf_url.split(\"/\")[-1]\n",
    "\n",
    "    if pdf_name in downloaded_files:\n",
    "        continue\n",
    "\n",
    "    pdf_path = os.path.join(download_dir, pdf_name)\n",
    "    response = requests.get(pdf_url)\n",
    "\n",
    "    with open(pdf_path, 'wb') as file:\n",
    "        file.write(response.content)\n",
    "    print(f\"Downloaded {pdf_name}\")\n",
    "    downloaded_files.add(pdf_name)\n",
    "\n"
   ]
  },
  {
   "cell_type": "markdown",
   "id": "7991fd796acd073d",
   "metadata": {
    "collapsed": false
   },
   "source": [
    "# Debates del pleno del congreso"
   ]
  },
  {
   "cell_type": "code",
   "execution_count": 162,
   "id": "c5e468988614dda6",
   "metadata": {
    "ExecuteTime": {
     "end_time": "2023-10-11T22:24:10.566568200Z",
     "start_time": "2023-10-11T22:24:10.552137200Z"
    },
    "collapsed": false
   },
   "outputs": [],
   "source": [
    "def extraeListaLinks(textHtml):\n",
    "    html_content = textHtml\n",
    "    soup = BeautifulSoup(html_content, 'html.parser')\n",
    "    href_tags = soup.find_all(\"a\", href=lambda href: href  and \"SesionesPleno\" in href)\n",
    "\n",
    "    pdf_list = []\n",
    "    for a in href_tags:\n",
    "        link = a.attrs['href']\n",
    "        pdf_list.append(link)\n",
    "\n",
    "    for i, link in enumerate(pdf_list):\n",
    "        match = re.search(r\"javascript:mapCat\\('(.+?)'\\)\", link)\n",
    "        pdf_list[i]= match.group(1)\n",
    "        \n",
    "    return pdf_list"
   ]
  },
  {
   "cell_type": "code",
   "execution_count": 163,
   "id": "f1bd448c86376eb6",
   "metadata": {
    "ExecuteTime": {
     "end_time": "2023-10-11T22:24:14.323121500Z",
     "start_time": "2023-10-11T22:24:11.920172700Z"
    },
    "collapsed": false
   },
   "outputs": [],
   "source": [
    "urlPleno = 'https://www2.congreso.gob.pe/Sicr/DiarioDebates/Publicad.nsf/new_sesionespleno?OpenForm&ExpandView'\n",
    "\n",
    "url = urlPleno\n",
    "headers = {'User-Agent' : 'Mozilla/5.0 (Windows NT 10.0; Win64; x64) AppleWebKit/537.36 (KHTML, like Gecko) Chrome/117.0.0.0 Safari/537.36', }\n",
    "response = requests.get(url, headers = headers)\n",
    "\n",
    "text = response.text\n",
    "linkList = extraeListaLinks(textHtml = text)\n"
   ]
  }
 ],
 "metadata": {
  "kernelspec": {
   "display_name": "Python 3",
   "language": "python",
   "name": "python3"
  },
  "language_info": {
   "codemirror_mode": {
    "name": "ipython",
    "version": 2
   },
   "file_extension": ".py",
   "mimetype": "text/x-python",
   "name": "python",
   "nbconvert_exporter": "python",
   "pygments_lexer": "ipython2",
   "version": "2.7.6"
  }
 },
 "nbformat": 4,
 "nbformat_minor": 5
}
